{
  "nbformat": 4,
  "nbformat_minor": 0,
  "metadata": {
    "colab": {
      "provenance": []
    },
    "kernelspec": {
      "name": "python3",
      "display_name": "Python 3"
    },
    "language_info": {
      "name": "python"
    }
  },
  "cells": [
    {
      "cell_type": "markdown",
      "source": [
        "# Guia para a aula experimental\n",
        "Neste guia trataremos do uso de um sensor virtual, que utiliza fotografias para o cálculo de pessoas em uma localidade. Nesse guia vocês poderão testar diversos modelos de Deep Learning baseados na rede Yolo em diversas fotografias diferentes.\n",
        "\n",
        "Para rodar esse Guia, você pode executar as células sequencialmente (exceto as que contêm listas de seleção).\n",
        "\n",
        "Esse roteiro utiliza material do trabalho publicado pelo Google, que pode ser encontrado em: https://docs.ultralytics.com/modes/predict/\n",
        "\n",
        "Licensed under the Apache License, Version 2.0"
      ],
      "metadata": {
        "id": "XhWGeTINDB9K"
      }
    },
    {
      "cell_type": "code",
      "source": [
        "%%capture\n",
        "!pip install ultralytics"
      ],
      "metadata": {
        "id": "EHRokOk3EURA"
      },
      "execution_count": null,
      "outputs": []
    },
    {
      "cell_type": "code",
      "source": [
        "import numpy as np\n",
        "from ultralytics import YOLO\n",
        "import scipy.misc\n",
        "from six import BytesIO\n",
        "from PIL import Image, ImageDraw, ImageFont\n",
        "from six.moves.urllib.request import urlopen\n",
        "import matplotlib\n",
        "import matplotlib.pyplot as plt\n",
        "import matplotlib.patches as patches"
      ],
      "metadata": {
        "id": "xNkV_RjNDD2G"
      },
      "execution_count": null,
      "outputs": []
    },
    {
      "cell_type": "code",
      "source": [
        "def load_image_into_numpy_array(path):\n",
        "  image = None\n",
        "  if(path.startswith('http')):\n",
        "    response = urlopen(path)\n",
        "    image_data = response.read()\n",
        "    image_data = BytesIO(image_data)\n",
        "    image = Image.open(image_data)\n",
        "  else:\n",
        "    image_data = tf.io.gfile.GFile(path, 'rb').read()\n",
        "    image = Image.open(BytesIO(image_data))\n",
        "\n",
        "  (im_width, im_height) = image.size\n",
        "  return np.array(image.getdata()).reshape(\n",
        "      (1, im_height, im_width, 3)).astype(np.uint8)\n",
        "\n",
        "\n",
        "def plot_person_boxes(image, results):\n",
        "    # Criar uma figura e eixo para exibir a imagem (aumentando o tamanho da figura)\n",
        "    fig, ax = plt.subplots(1, figsize=(12, 8))\n",
        "\n",
        "    # Exibir a imagem\n",
        "    ax.imshow(image)\n",
        "\n",
        "    # Obter o mapeamento dos nomes das classes\n",
        "    class_names = results.names  # Dicionário que mapeia índices de classe para nomes\n",
        "\n",
        "    # Obter as caixas dos resultados\n",
        "    boxes = results.boxes  # Objeto 'Boxes'\n",
        "\n",
        "    # Verificar se há detecções\n",
        "    if boxes is None or len(boxes) == 0:\n",
        "        print(\"Nenhuma detecção para exibir.\")\n",
        "        plt.show()\n",
        "        return\n",
        "\n",
        "    # Converter caixas e índices de classe para arrays numpy\n",
        "    xyxy = boxes.xyxy.cpu().numpy()  # Coordenadas das caixas [x1, y1, x2, y2]\n",
        "    cls_indices = boxes.cls.cpu().numpy().astype(int)  # Índices das classes\n",
        "\n",
        "    # Iterar sobre cada detecção\n",
        "    for i in range(len(boxes)):\n",
        "        # Obter o índice e nome da classe\n",
        "        cls_idx = cls_indices[i]\n",
        "        cls_name = class_names.get(cls_idx, 'Desconhecido')\n",
        "\n",
        "        # Verificar se a classe detectada é 'person'\n",
        "        if cls_name == 'person':\n",
        "            # Obter as coordenadas da caixa delimitadora\n",
        "            x1, y1, x2, y2 = xyxy[i]\n",
        "\n",
        "            # Calcular a largura e altura da caixa\n",
        "            width = x2 - x1\n",
        "            height = y2 - y1\n",
        "\n",
        "            # Criar um retângulo com as coordenadas da caixa\n",
        "            rect = patches.Rectangle(\n",
        "                (x1, y1), width, height,\n",
        "                linewidth=2, edgecolor='r', facecolor='none'\n",
        "            )\n",
        "\n",
        "            # Adicionar o retângulo ao eixo\n",
        "            ax.add_patch(rect)\n",
        "\n",
        "    # Mostrar o gráfico com as caixas delimitadoras\n",
        "    plt.show()\n",
        "\n",
        "\n",
        "ALL_MODELS = {\n",
        "'Yolo 11 - Nano' : 'yolo11n.pt',\n",
        "'Yolo 11 - Small' : 'yolo11s.pt',\n",
        "'Yolo 11 - Medium' : 'yolo11m.pt',\n",
        "'Yolo 11 - Large' : 'yolo11l.pt',\n",
        "'Yolo 11 - Extra' : 'yolo11x.pt'\n",
        "}\n",
        "\n",
        "IMAGES_FOR_TEST = {\n",
        "  'Toronto' : 'https://wp222203.wpdns.ca/wp-content/uploads/2019/08/Kristen-Wells-Walking-tour-009_web-1024x683.jpg',\n",
        "  'dreamstime.com' : 'https://thumbs.dreamstime.com/z/nyc-people-waiting-outside-restaurant-table-20995159.jpg',\n",
        "  'BostonGlobe' : 'https://bostonglobe-prod.cdn.arcpublishing.com/resizer/kOd-PMQUsCOkoEqK861NUX1XDQ4=/1440x0/arc-anglerfish-arc2-prod-bostonglobe.s3.amazonaws.com/public/2P7FQXFU3EI6HLDEZS3P4FVF7I.jpg',\n",
        "  'Multidão 1' : 'https://i.ytimg.com/vi/NzAt-73Q8U4/maxresdefault.jpg',\n",
        "  'Multidão 2' : 'https://c8.alamy.com/comp/E53RWC/a-small-crowd-watching-a-band-performing-at-the-sound-of-music-festival-E53RWC.jpg',\n",
        "}"
      ],
      "metadata": {
        "id": "dB5bep5KEf8Q"
      },
      "execution_count": null,
      "outputs": []
    },
    {
      "cell_type": "code",
      "source": [
        "#Agora vamos selecionar o modelo a ser usado\n",
        "#@title Seleção do modelo { display-mode: \"form\", run: \"auto\" }\n",
        "model_display_name = 'Yolo 11 - Extra' # @param ['Yolo 11 - Nano','Yolo 11 - Small','Yolo 11 - Medium','Yolo 11 - Large', 'Yolo 11 - Extra']\n",
        "model_handle = ALL_MODELS[model_display_name]\n",
        "\n",
        "print('Modelo Selecionado:'+ model_display_name)"
      ],
      "metadata": {
        "id": "49XZUWLXFJv1"
      },
      "execution_count": null,
      "outputs": []
    },
    {
      "cell_type": "code",
      "source": [
        "# Baixando e carregando o modelo selecionado\n",
        "model = YOLO(model_handle)"
      ],
      "metadata": {
        "id": "nkx3ttUaEOjr"
      },
      "execution_count": null,
      "outputs": []
    },
    {
      "cell_type": "code",
      "source": [
        "#@title Seleção da Imagem { display-mode: \"form\", run: \"auto\" }\n",
        "selected_image = 'Multidão 2' # @param ['Toronto', 'dreamstime.com', 'BostonGlobe', 'Multidão 1', 'Multidão 2']\n",
        "flip_image_horizontally = False #@param {type:\"boolean\"}\n",
        "convert_image_to_grayscale = False #@param {type:\"boolean\"}\n"
      ],
      "metadata": {
        "id": "CSk9SBQ9Gafr"
      },
      "execution_count": null,
      "outputs": []
    },
    {
      "cell_type": "code",
      "source": [
        "image_path = IMAGES_FOR_TEST[selected_image]\n",
        "print('Baixando: '+ selected_image + ' , em: '+ image_path)\n",
        "image_np = load_image_into_numpy_array(image_path)[0]\n",
        "\n",
        "\n",
        "# Flip horizontally\n",
        "if(flip_image_horizontally):\n",
        "  image_np = np.fliplr(image_np[0]).copy()\n",
        "\n",
        "# Convert image to grayscale\n",
        "if(convert_image_to_grayscale):\n",
        "  image_np = np.tile(\n",
        "    np.mean(image_np, 2, keepdims=True), (1, 1, 3)).astype(np.uint8)\n",
        "\n",
        "plt.figure(figsize=(12,16))\n",
        "plt.imshow(image_np)\n",
        "plt.show()"
      ],
      "metadata": {
        "id": "rCc-zCXMHlyM"
      },
      "execution_count": null,
      "outputs": []
    },
    {
      "cell_type": "code",
      "source": [
        "# Rodando a Inferência do modelo escolhido na Imagem\n",
        "results = model(image_np,conf=0.5)\n",
        "\n",
        "#Exibindo o resultado\n",
        "plot_person_boxes(image_np, results[0])"
      ],
      "metadata": {
        "id": "351M9ln_FvYw"
      },
      "execution_count": null,
      "outputs": []
    },
    {
      "cell_type": "code",
      "source": [],
      "metadata": {
        "id": "jtvIa3tdKzKD"
      },
      "execution_count": null,
      "outputs": []
    }
  ]
}